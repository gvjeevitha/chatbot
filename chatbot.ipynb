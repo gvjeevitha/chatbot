{
  "nbformat": 4,
  "nbformat_minor": 0,
  "metadata": {
    "colab": {
      "provenance": [],
      "gpuType": "T4"
    },
    "kernelspec": {
      "name": "python3",
      "display_name": "Python 3"
    },
    "language_info": {
      "name": "python"
    },
    "accelerator": "GPU"
  },
  "cells": [
    {
      "cell_type": "code",
      "source": [
        "import json\n",
        "import random\n",
        "\n",
        "# Load the intents from your JSON file\n",
        "intents_file = '/content/intents.json'\n",
        "with open(intents_file) as file:\n",
        "    intents_data = json.load(file)\n",
        "\n",
        "# Define a function to get a response for a given user input\n",
        "def get_response(user_input):\n",
        "    # Tokenize user input (you can modify this to suit your needs)\n",
        "    user_words = user_input.lower().split()\n",
        "\n",
        "    # Initialize response as None\n",
        "    response = None\n",
        "\n",
        "    # Check for matching intents\n",
        "    for intent in intents_data['intents']:\n",
        "        if 'patterns' in intent:\n",
        "            if any(pattern.lower() in user_words for pattern in intent['patterns']):\n",
        "                responses = intent['responses']\n",
        "                response = random.choice(responses)\n",
        "                break\n",
        "\n",
        "    # If no intent matched, use a default response\n",
        "    if response is None:\n",
        "        response = random.choice(intents_data['intents'][1]['responses'])  # Use the \"noanswer\" response\n",
        "\n",
        "    return response\n",
        "\n",
        "# Main chat loop\n",
        "print(\"Bot: Hello! How can I assist you today? (Type 'quit' to exit)\")\n",
        "while True:\n",
        "    user_input = input(\"You: \")\n",
        "    if user_input.lower() == 'quit':\n",
        "        break\n",
        "\n",
        "    bot_response = get_response(user_input)\n",
        "    print(\"Bot:\", bot_response)"
      ],
      "metadata": {
        "colab": {
          "base_uri": "https://localhost:8080/"
        },
        "id": "NVPxBAVO1rnq",
        "outputId": "e5d45022-787a-4a8a-e9e9-6b5b85bea649"
      },
      "execution_count": null,
      "outputs": [
        {
          "output_type": "stream",
          "name": "stdout",
          "text": [
            "Bot: Hello! How can I assist you today? (Type 'quit' to exit)\n",
            "You: wait\n",
            "Bot: Please give me more info\n"
          ]
        }
      ]
    }
  ]
}